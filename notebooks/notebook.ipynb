{
 "cells": [
  {
   "cell_type": "code",
   "execution_count": null,
   "id": "0",
   "metadata": {},
   "outputs": [],
   "source": [
    "import json\n",
    "from pathlib import Path\n",
    "\n",
    "from langchain.schema import Document\n",
    "\n",
    "from medical_graph_rag.data_processing.batch_processor import PMCBatchProcessor\n",
    "from medical_graph_rag.data_processing.document_processor import DocumentProcessor"
   ]
  },
  {
   "cell_type": "code",
   "execution_count": null,
   "id": "1",
   "metadata": {},
   "outputs": [],
   "source": [
    "%%nbqa_ignore F704\n",
    "load_dotenv()\n",
    "\n",
    "\n",
    "async def main():\n",
    "    downloader = PubMedEntrezDownloader(\"olandechris@gmail.com\")\n",
    "    pmids = await downloader.search_pubmed(\"\", max_results=10000)\n",
    "    articles = await downloader.fetch_article_details(pmids)\n",
    "    downloader.save_to_json(articles, \"results.json\")\n",
    "\n",
    "\n",
    "await main()"
   ]
  },
  {
   "cell_type": "code",
   "execution_count": null,
   "id": "2",
   "metadata": {},
   "outputs": [],
   "source": [
    "doc_processor = DocumentProcessor()\n",
    "batch_processor = PMCBatchProcessor(\n",
    "    document_processor=doc_processor,\n",
    "    batch_size=50,\n",
    "    max_concurrent_batches=4,\n",
    "    retry_attempts=3,\n",
    ")"
   ]
  },
  {
   "cell_type": "code",
   "execution_count": null,
   "id": "3",
   "metadata": {},
   "outputs": [],
   "source": [
    "%%nbqa_ignore F704\n",
    "\n",
    "results = await batch_processor.process_pmc_file_async(\n",
    "    file_path=\"../data/input/research20250605_002659.json\", max_docs=1000, batch_size=30\n",
    ")\n",
    "# print(f\"Generated {results['processing_summary']['total_chunks']} chunks\")"
   ]
  },
  {
   "cell_type": "code",
   "execution_count": null,
   "id": "4",
   "metadata": {},
   "outputs": [],
   "source": [
    "data_path = Path(\"../data/output/processed_pmc_data/pmc_chunks.json\")\n",
    "with data_path.open(encoding=\"utf-8\") as f:\n",
    "    data = json.load(f)\n",
    "\n",
    "# Create documents\n",
    "documents = [\n",
    "    Document(page_content=doc[\"content\"], metadata=doc[\"metadata\"])\n",
    "    for doc in data[\"documents\"]\n",
    "]"
   ]
  },
  {
   "cell_type": "code",
   "execution_count": null,
   "id": "5",
   "metadata": {},
   "outputs": [],
   "source": [
    "%%nbqa_ignore F704\n",
    "\n",
    "logging.basicConfig(level=logging.INFO)\n",
    "logger = logging.getLogger(\"MainScript\")\n",
    "\n",
    "\n",
    "async def main():\n",
    "    doc_processor = DocumentProcessor(embeddings_model=\"BAAI/bge-small-en-v1.5\")\n",
    "\n",
    "    batch_processor = PMCBatchProcessor(\n",
    "        document_processor=doc_processor,\n",
    "        batch_size=96,\n",
    "        max_concurrent_batches=3,\n",
    "        retry_attempts=2,\n",
    "        retry_delay=1.0,\n",
    "        inter_batch_delay=0.1,\n",
    "    )\n",
    "\n",
    "    file_path = \"../data/research20250605_002659.json\"\n",
    "    output_directory = \"../data/output/processed_pmc_data\"\n",
    "\n",
    "    logger.info(f\"Starting batch processing of {file_path}\")\n",
    "\n",
    "    try:\n",
    "        processing_results = await batch_processor.process_pmc_file_async(\n",
    "            file_path=file_path\n",
    "        )\n",
    "\n",
    "        batch_processor.save_results(\n",
    "            processing_results, output_directory, save_batch_details=True\n",
    "        )\n",
    "\n",
    "        s = processing_results[\"processing_summary\"]\n",
    "        logger.info(\n",
    "            f\"Processing complete: {s['total_documents']:,} docs → {s['total_chunks']:,} chunks ({s['processing_time']:.1f}s)\"\n",
    "        )\n",
    "        logger.info(f\"Success rate: {s['success_rate']:.1f}%\")\n",
    "\n",
    "    except Exception as e:\n",
    "        logger.error(f\"An error occurred during batch processing: {e}\", exc_info=True)\n",
    "\n",
    "\n",
    "\n",
    "await main()"
   ]
  },
  {
   "cell_type": "code",
   "execution_count": null,
   "id": "6",
   "metadata": {},
   "outputs": [],
   "source": [
    "%%nbqa_ignore F704\n",
    "\n",
    "main = Main()\n",
    "await main.process_documents(documents)\n",
    "response, path, content = await main.query(\"How are brain tumors detected?\")"
   ]
  }
 ],
 "metadata": {
  "kernelspec": {
   "display_name": ".venv",
   "language": "python",
   "name": "python3"
  },
  "language_info": {
   "codemirror_mode": {
    "name": "ipython",
    "version": 3
   },
   "file_extension": ".py",
   "mimetype": "text/x-python",
   "name": "python",
   "nbconvert_exporter": "python",
   "pygments_lexer": "ipython3"
  },
  "vincent": {
   "sessionId": "56125596d14fe9c206f0f7e1_2025-06-07T06-49-21-437Z"
  }
 },
 "nbformat": 4,
 "nbformat_minor": 5
}
